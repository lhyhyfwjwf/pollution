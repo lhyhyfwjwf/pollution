{
 "cells": [
  {
   "cell_type": "code",
   "execution_count": 3,
   "metadata": {
    "collapsed": false
   },
   "outputs": [
    {
     "name": "stdout",
     "output_type": "stream",
     "text": [
      "722897-93206-2012\n",
      "722897-93206-2013\n",
      "722897-93206-2014\n",
      "722897-93206-2015\n",
      "722897-93206-2016\n",
      "722950-23174-2012\n",
      "722950-23174-2013\n",
      "722950-23174-2014\n",
      "722950-23174-2015\n",
      "722950-23174-2016\n",
      "723840-23155-2012\n",
      "723840-23155-2013\n",
      "723840-23155-2014\n",
      "723840-23155-2015\n",
      "723840-23155-2016\n",
      "723890-93193-2012\n",
      "723890-93193-2013\n",
      "723890-93193-2014\n",
      "723890-93193-2015\n",
      "723890-93193-2016\n",
      "724830-23232-2012\n",
      "724830-23232-2013\n",
      "724830-23232-2014\n",
      "724830-23232-2015\n",
      "724830-23232-2016\n",
      "724926-23258-2012\n",
      "724926-23258-2013\n",
      "724926-23258-2014\n",
      "724926-23258-2015\n",
      "724926-23258-2016\n",
      "724945-23293-2012\n",
      "724945-23293-2013\n",
      "724945-23293-2014\n",
      "724945-23293-2015\n",
      "724945-23293-2016\n",
      "994027-99999-2012\n",
      "994027-99999-2013\n",
      "994027-99999-2014\n",
      "994027-99999-2015\n",
      "994027-99999-2016\n",
      "998479-99999-2012\n",
      "998479-99999-2013\n",
      "998479-99999-2014\n",
      "998479-99999-2015\n",
      "998479-99999-2016\n"
     ]
    }
   ],
   "source": [
    "import os\n",
    "import pandas as pd\n",
    "import numpy as np\n",
    "import matplotlib\n",
    "import matplotlib.pyplot as plt\n",
    "import seaborn as sns\n",
    "\n",
    "path = os.getcwd()\n",
    "\n",
    "folder = ['11','12','13','14','15','16','17','18','19']\n",
    "for pick in folder: \n",
    "    files = os.listdir(pick)\n",
    "    df = pd.DataFrame(columns=('station', 'year', 'month', 'day', 'hour', 'air_temp', 'dew_pt_temp', 'sea_lvl_pressure', \n",
    "                           'wind_dirc', 'wind_spd', 'sky_con', 'l_precip_1', 'l_precip_6'))\n",
    "    for f in files:\n",
    "        print f\n",
    "        i = 0\n",
    "        station = f[:6]\n",
    "        f = open(pick+'/'+f, \"r\")\n",
    "        text = f.readlines()\n",
    "        for line in text:\n",
    "            line = line.strip('\\n')\n",
    "            line = line.split(' ')\n",
    "            line = filter(None, line)\n",
    "            df.loc[i, 'station'] = station\n",
    "            df.loc[i, 1:] = [n for n in line]\n",
    "            i += 1\n",
    "    df.to_csv(pick+'.csv', sep=',')"
   ]
  },
  {
   "cell_type": "code",
   "execution_count": 49,
   "metadata": {
    "collapsed": false
   },
   "outputs": [
    {
     "data": {
      "text/plain": [
       "(8783, 13)"
      ]
     },
     "execution_count": 49,
     "metadata": {},
     "output_type": "execute_result"
    }
   ],
   "source": [
    "df.shape"
   ]
  },
  {
   "cell_type": "markdown",
   "metadata": {},
   "source": [
    "import os\n",
    "import pandas as pd\n",
    "import numpy as np\n",
    "import matplotlib\n",
    "import matplotlib.pyplot as plt\n",
    "import seaborn as sns\n",
    "\n",
    "path = os.getcwd()\n",
    "files = os.listdir('wea_data')\n",
    "\n",
    "df = pd.DataFrame(columns=('station', 'year', 'month', 'day', 'hour', 'air_temp', 'dew_pt_temp', 'sea_lvl_pressure', \n",
    "                           'wind_dirc', 'wind_spd', 'sky_con', 'l_precip_1', 'l_precip_6'))\n",
    "f = open('722897-93206-2016', \"r\")\n",
    "\n",
    "i = 0\n",
    "#f = open(f, \"rt\")\n",
    "station = '722897'\n",
    "text = f.readlines()\n",
    "for line in text:\n",
    "        line = line.strip('\\n')\n",
    "        line = line.split(' ')\n",
    "        line = filter(None, line)\n",
    "        df.loc[i, 'station'] = station\n",
    "        df.loc[i, 1:] = [n for n in line]\n",
    "        i += 1\n",
    "df.head()"
   ]
  },
  {
   "cell_type": "code",
   "execution_count": 57,
   "metadata": {
    "collapsed": false
   },
   "outputs": [
    {
     "data": {
      "text/plain": [
       "(8783, 13)"
      ]
     },
     "execution_count": 57,
     "metadata": {},
     "output_type": "execute_result"
    }
   ],
   "source": [
    "df.shape"
   ]
  },
  {
   "cell_type": "code",
   "execution_count": 62,
   "metadata": {
    "collapsed": true
   },
   "outputs": [],
   "source": [
    "df.to_csv('2016722897222.csv', sep=',')"
   ]
  },
  {
   "cell_type": "code",
   "execution_count": null,
   "metadata": {
    "collapsed": true
   },
   "outputs": [],
   "source": []
  }
 ],
 "metadata": {
  "kernelspec": {
   "display_name": "Python 2",
   "language": "python",
   "name": "python2"
  },
  "language_info": {
   "codemirror_mode": {
    "name": "ipython",
    "version": 2
   },
   "file_extension": ".py",
   "mimetype": "text/x-python",
   "name": "python",
   "nbconvert_exporter": "python",
   "pygments_lexer": "ipython2",
   "version": "2.7.13"
  }
 },
 "nbformat": 4,
 "nbformat_minor": 2
}
