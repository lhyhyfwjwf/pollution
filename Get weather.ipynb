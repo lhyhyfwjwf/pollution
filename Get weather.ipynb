{
 "cells": [
  {
   "cell_type": "code",
   "execution_count": 1,
   "metadata": {
    "collapsed": false
   },
   "outputs": [
    {
     "name": "stdout",
     "output_type": "stream",
     "text": [
      "722900-23188-2012\n",
      "722900-23188-2013\n",
      "722900-23188-2014\n",
      "722900-23188-2015\n",
      "722900-23188-2016\n",
      "desktop.ini\n"
     ]
    }
   ],
   "source": [
    "import os\n",
    "import pandas as pd\n",
    "import numpy as np\n",
    "import matplotlib\n",
    "import matplotlib.pyplot as plt\n",
    "import seaborn as sns\n",
    "\n",
    "path = os.getcwd()\n",
    "files = os.listdir('new sd')\n",
    "#f = open('722897-93206-2016.txt', \"r\")\n",
    "df = pd.DataFrame(columns=('station', 'year', 'month', 'day', 'hour', 'air_temp', 'dew_pt_temp', 'sea_lvl_pressure', \n",
    "                           'wind_dirc', 'wind_spd', 'sky_con', 'l_precip_1', 'l_precip_6'))\n",
    "i = 0\n",
    "for f in files:\n",
    "    print f\n",
    "    station = f[:6]\n",
    "    f = open('new sd/'+f, \"r\")\n",
    "    text = f.readlines()\n",
    "    for line in text:\n",
    "        line = line.strip('\\n')\n",
    "        line = line.split(' ')\n",
    "        line = filter(None, line)\n",
    "        df.loc[i, 'station'] = station\n",
    "        df.loc[i, 1:] = [n for n in line] \n",
    "        i += 1\n",
    "\n",
    "df.to_csv('san diego.csv', sep=',')"
   ]
  },
  {
   "cell_type": "code",
   "execution_count": 49,
   "metadata": {
    "collapsed": false
   },
   "outputs": [
    {
     "data": {
      "text/plain": [
       "(8783, 13)"
      ]
     },
     "execution_count": 49,
     "metadata": {},
     "output_type": "execute_result"
    }
   ],
   "source": [
    "df.shape"
   ]
  },
  {
   "cell_type": "markdown",
   "metadata": {},
   "source": [
    "import os\n",
    "import pandas as pd\n",
    "import numpy as np\n",
    "import matplotlib\n",
    "import matplotlib.pyplot as plt\n",
    "import seaborn as sns\n",
    "\n",
    "path = os.getcwd()\n",
    "files = os.listdir('wea_data')\n",
    "\n",
    "df = pd.DataFrame(columns=('station', 'year', 'month', 'day', 'hour', 'air_temp', 'dew_pt_temp', 'sea_lvl_pressure', \n",
    "                           'wind_dirc', 'wind_spd', 'sky_con', 'l_precip_1', 'l_precip_6'))\n",
    "f = open('722897-93206-2016', \"r\")\n",
    "\n",
    "i = 0\n",
    "#f = open(f, \"rt\")\n",
    "station = '722897'\n",
    "text = f.readlines()\n",
    "for line in text:\n",
    "        line = line.strip('\\n')\n",
    "        line = line.split(' ')\n",
    "        line = filter(None, line)\n",
    "        df.loc[i, 'station'] = station\n",
    "        df.loc[i, 1:] = [n for n in line]\n",
    "        i += 1\n",
    "df.head()"
   ]
  },
  {
   "cell_type": "code",
   "execution_count": 57,
   "metadata": {
    "collapsed": false
   },
   "outputs": [
    {
     "data": {
      "text/plain": [
       "(8783, 13)"
      ]
     },
     "execution_count": 57,
     "metadata": {},
     "output_type": "execute_result"
    }
   ],
   "source": [
    "df.shape"
   ]
  },
  {
   "cell_type": "code",
   "execution_count": 62,
   "metadata": {
    "collapsed": true
   },
   "outputs": [],
   "source": [
    "df.to_csv('2016722897222.csv', sep=',')"
   ]
  },
  {
   "cell_type": "code",
   "execution_count": null,
   "metadata": {
    "collapsed": true
   },
   "outputs": [],
   "source": []
  }
 ],
 "metadata": {
  "kernelspec": {
   "display_name": "Python 2",
   "language": "python",
   "name": "python2"
  },
  "language_info": {
   "codemirror_mode": {
    "name": "ipython",
    "version": 2
   },
   "file_extension": ".py",
   "mimetype": "text/x-python",
   "name": "python",
   "nbconvert_exporter": "python",
   "pygments_lexer": "ipython2",
   "version": "2.7.13"
  }
 },
 "nbformat": 4,
 "nbformat_minor": 2
}
